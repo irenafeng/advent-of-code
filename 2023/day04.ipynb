{
 "cells": [
  {
   "cell_type": "code",
   "execution_count": 1,
   "metadata": {},
   "outputs": [],
   "source": [
    "input_file = open(\"input04.txt\", \"r\")\n",
    "input = input_file.read().split(\"\\n\")\n",
    "input.pop()\n",
    "\n",
    "sample = [\"Card 1: 41 48 83 86 17 | 83 86  6 31 17  9 48 53\",\n",
    "          \"Card 2: 13 32 20 16 61 | 61 30 68 82 17 32 24 19\",\n",
    "          \"Card 3:  1 21 53 59 44 | 69 82 63 72 16 21 14  1\",\n",
    "          \"Card 4: 41 92 73 84 69 | 59 84 76 51 58  5 54 83\",\n",
    "          \"Card 5: 87 83 26 28 32 | 88 30 70 12 93 22 82 36\",\n",
    "          \"Card 6: 31 18 13 56 72 | 74 77 10 23 35 67 36 11\"]"
   ]
  },
  {
   "cell_type": "code",
   "execution_count": 14,
   "metadata": {},
   "outputs": [
    {
     "name": "stdout",
     "output_type": "stream",
     "text": [
      "total:  32001\n"
     ]
    }
   ],
   "source": [
    "# PART ONE\n",
    "\n",
    "total_1 = 0\n",
    "for line in input:\n",
    "    all_num = line.split(\":\")[1].strip()\n",
    "    winning = all_num.split(\" | \")[0].split()\n",
    "    card_num = all_num.split(\" | \")[1].split()\n",
    "\n",
    "    matches = 0\n",
    "    for n in range(len(winning)):\n",
    "        if winning[n] in card_num:\n",
    "            matches += 1\n",
    "    \n",
    "    #print(matches)\n",
    "    if matches != 0:\n",
    "        total_1 += 2**(matches-1)\n",
    "\n",
    "print(\"total: \", total_1)"
   ]
  },
  {
   "cell_type": "code",
   "execution_count": 29,
   "metadata": {},
   "outputs": [
    {
     "name": "stdout",
     "output_type": "stream",
     "text": [
      "total:  5037841\n"
     ]
    }
   ],
   "source": [
    "# PART TWO\n",
    "\n",
    "copies = [1 for _ in range(len(input))]\n",
    "\n",
    "total_2 = 0\n",
    "for i, line in enumerate(input):\n",
    "    #print(\"card \", i+1)\n",
    "    #print(copies[i], \" copies\")\n",
    "    total_2 += copies[i]\n",
    "    \n",
    "    all_num = line.split(\":\")[1].strip()\n",
    "    winning = all_num.split(\" | \")[0].split()\n",
    "    card_num = all_num.split(\" | \")[1].split()\n",
    "\n",
    "    matches = 0\n",
    "    for n in range(len(winning)):\n",
    "        if winning[n] in card_num:\n",
    "            matches += 1\n",
    "    \n",
    "    #print(matches, \" matches\")\n",
    "    if matches != 0:\n",
    "        for n in range(matches):\n",
    "            copies[i+n+1] += copies[i]\n",
    "\n",
    "    #print(\"\")\n",
    "\n",
    "print(\"total: \", total_2)"
   ]
  }
 ],
 "metadata": {
  "kernelspec": {
   "display_name": "Python 3",
   "language": "python",
   "name": "python3"
  },
  "language_info": {
   "codemirror_mode": {
    "name": "ipython",
    "version": 3
   },
   "file_extension": ".py",
   "mimetype": "text/x-python",
   "name": "python",
   "nbconvert_exporter": "python",
   "pygments_lexer": "ipython3",
   "version": "3.12.1"
  }
 },
 "nbformat": 4,
 "nbformat_minor": 2
}
