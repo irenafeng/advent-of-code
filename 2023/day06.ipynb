{
 "cells": [
  {
   "cell_type": "code",
   "execution_count": 29,
   "metadata": {},
   "outputs": [],
   "source": [
    "input_file = open(\"input06.txt\", \"r\")\n",
    "input = input_file.read().split(\"\\n\")\n",
    "input.pop()\n",
    "\n",
    "sample = [\"Time:      7  15   30\",\n",
    "          \"Distance:  9  40  200\"]"
   ]
  },
  {
   "cell_type": "code",
   "execution_count": 30,
   "metadata": {},
   "outputs": [
    {
     "name": "stdout",
     "output_type": "stream",
     "text": [
      "multiplied wins:  449820\n"
     ]
    }
   ],
   "source": [
    "# PART ONE\n",
    "\n",
    "# times_list = [int(i) for i in sample[0].split(\":\")[1].strip().split()]\n",
    "# distance_list = [int(i) for i in sample[1].split(\":\")[1].strip().split()]\n",
    "\n",
    "times_list = [int(i) for i in input[0].split(\":\")[1].strip().split()]\n",
    "distance_list = [int(i) for i in input[1].split(\":\")[1].strip().split()]\n",
    "\n",
    "multiplied_wins = 1\n",
    "for i, time in enumerate(times_list):\n",
    "    win = 0\n",
    "    for t in range(time+1):\n",
    "        dist = (time - t) * t\n",
    "        if dist > distance_list[i]:\n",
    "            win += 1\n",
    "    \n",
    "    #print(win)\n",
    "    multiplied_wins *= win\n",
    "    \n",
    "print(\"multiplied wins: \", multiplied_wins)"
   ]
  },
  {
   "cell_type": "code",
   "execution_count": 32,
   "metadata": {},
   "outputs": [
    {
     "name": "stdout",
     "output_type": "stream",
     "text": [
      "total ways:  42250895\n"
     ]
    }
   ],
   "source": [
    "# PART TWO\n",
    "\n",
    "time_actual = int(sample[0].split(\":\")[1].replace(\" \", \"\"))\n",
    "distance_actual = int(sample[1].split(\":\")[1].replace(\" \", \"\"))\n",
    "\n",
    "time_actual = int(input[0].split(\":\")[1].replace(\" \", \"\"))\n",
    "distance_actual = int(input[1].split(\":\")[1].replace(\" \", \"\"))\n",
    "\n",
    "wins = 0\n",
    "for t in range(time_actual+1):\n",
    "    dist = (time_actual - t) * t\n",
    "    if dist > distance_actual:\n",
    "        wins += 1\n",
    "\n",
    "print(\"total ways: \", wins)"
   ]
  }
 ],
 "metadata": {
  "kernelspec": {
   "display_name": "Python 3",
   "language": "python",
   "name": "python3"
  },
  "language_info": {
   "codemirror_mode": {
    "name": "ipython",
    "version": 3
   },
   "file_extension": ".py",
   "mimetype": "text/x-python",
   "name": "python",
   "nbconvert_exporter": "python",
   "pygments_lexer": "ipython3",
   "version": "3.12.1"
  }
 },
 "nbformat": 4,
 "nbformat_minor": 2
}
