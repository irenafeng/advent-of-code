{
 "cells": [
  {
   "cell_type": "code",
   "execution_count": 1,
   "metadata": {},
   "outputs": [],
   "source": [
    "input_file = open(\"input08.txt\", \"r\")\n",
    "input = input_file.read().split(\"\\n\")\n",
    "input.pop()\n",
    "\n",
    "sample = [\"RL\",\n",
    "\"\",\n",
    "\"AAA = (BBB, CCC)\",\n",
    "\"BBB = (DDD, EEE)\",\n",
    "\"CCC = (ZZZ, GGG)\",\n",
    "\"DDD = (DDD, DDD)\",\n",
    "\"EEE = (EEE, EEE)\",\n",
    "\"GGG = (GGG, GGG)\",\n",
    "\"ZZZ = (ZZZ, ZZZ)\"]\n",
    "\n",
    "sample2 = [\"LLR\",\n",
    "\"\",\n",
    "\"AAA = (BBB, BBB)\",\n",
    "\"BBB = (AAA, ZZZ)\",\n",
    "\"ZZZ = (ZZZ, ZZZ)\"]\n",
    "\n",
    "sample3 = [\"LR\",\n",
    "\"\",\n",
    "\"11A = (11B, XXX)\",\n",
    "\"11B = (XXX, 11Z)\",\n",
    "\"11Z = (11B, XXX)\",\n",
    "\"22A = (22B, XXX)\",\n",
    "\"22B = (22C, 22C)\",\n",
    "\"22C = (22Z, 22Z)\",\n",
    "\"22Z = (22B, 22B)\",\n",
    "\"XXX = (XXX, XXX)\"]"
   ]
  },
  {
   "cell_type": "code",
   "execution_count": 9,
   "metadata": {},
   "outputs": [],
   "source": [
    "from math import lcm"
   ]
  },
  {
   "cell_type": "code",
   "execution_count": 27,
   "metadata": {},
   "outputs": [
    {
     "name": "stdout",
     "output_type": "stream",
     "text": [
      "steps:  21797\n"
     ]
    }
   ],
   "source": [
    "# PART ONE\n",
    "\n",
    "# instructions = [x for x in sample[0]]\n",
    "# ele_list = [x.split(\" \")[0] for x in sample[2:]]\n",
    "# left = [x.split(\" \")[2][1:4] for x in sample[2:]]\n",
    "# right = [x.split(\" \")[3][0:3] for x in sample[2:]]\n",
    "\n",
    "# instructions = [x for x in sample2[0]]\n",
    "# ele_list = [x.split(\" \")[0] for x in sample2[2:]]\n",
    "# left = [x.split(\" \")[2][1:4] for x in sample2[2:]]\n",
    "# right = [x.split(\" \")[3][0:3] for x in sample2[2:]]\n",
    "\n",
    "instructions = [x for x in input[0]]\n",
    "ele_list = [x.split(\" \")[0] for x in input[2:]]\n",
    "left = [x.split(\" \")[2][1:4] for x in input[2:]]\n",
    "right = [x.split(\" \")[3][0:3] for x in input[2:]]\n",
    "\n",
    "position = \"AAA\"\n",
    "steps = 0\n",
    "\n",
    "while position != \"ZZZ\":\n",
    "    for inst in instructions:\n",
    "        index = ele_list.index(position)\n",
    "        if inst == \"R\":\n",
    "            position = right[index]\n",
    "        elif inst == \"L\":\n",
    "            position = left[index]\n",
    "        else:\n",
    "            print(\"something has gone wrong\")\n",
    "\n",
    "        # print(position)\n",
    "        steps += 1\n",
    "        if position == \"ZZZ\":\n",
    "            break\n",
    "\n",
    "# print(\"\")\n",
    "print(\"steps: \", steps)"
   ]
  },
  {
   "cell_type": "code",
   "execution_count": 12,
   "metadata": {},
   "outputs": [
    {
     "name": "stdout",
     "output_type": "stream",
     "text": [
      "steps:  23977527174353\n"
     ]
    }
   ],
   "source": [
    "# PART TWO\n",
    "\n",
    "# instructions = [x for x in sample3[0]]\n",
    "# ele_list = [x.split(\" \")[0] for x in sample3[2:]]\n",
    "# left = [x.split(\" \")[2][1:4] for x in sample3[2:]]\n",
    "# right = [x.split(\" \")[3][0:3] for x in sample3[2:]]\n",
    "\n",
    "instructions = [x for x in input[0]]\n",
    "ele_list = [x.split(\" \")[0] for x in input[2:]]\n",
    "left = [x.split(\" \")[2][1:4] for x in input[2:]]\n",
    "right = [x.split(\" \")[3][0:3] for x in input[2:]]\n",
    "\n",
    "starting_nodes = [x for x in ele_list if x[2] == \"A\"]\n",
    "# print(starting_nodes)\n",
    "\n",
    "num_nodes = len(starting_nodes)\n",
    "finished = 0\n",
    "steps_list = []\n",
    "\n",
    "for node in starting_nodes:\n",
    "    # print(node)\n",
    "    position = node\n",
    "    steps = 0\n",
    "\n",
    "    while position[-1] != \"Z\":\n",
    "        for inst in instructions:\n",
    "            index = ele_list.index(position)\n",
    "            if inst == \"R\":\n",
    "                position = right[index]\n",
    "            elif inst == \"L\":\n",
    "                position = left[index]\n",
    "            else:\n",
    "                print(\"something has gone wrong\")\n",
    "            \n",
    "            steps += 1\n",
    "            if position[-1] == \"Z\":\n",
    "                break\n",
    "    \n",
    "    # print(position)\n",
    "    # print(\"\")\n",
    "    steps_list.append(steps)\n",
    "\n",
    "lcms = lcm(*steps_list)\n",
    "\n",
    "print(\"steps: \", lcms)"
   ]
  }
 ],
 "metadata": {
  "kernelspec": {
   "display_name": "Python 3",
   "language": "python",
   "name": "python3"
  },
  "language_info": {
   "codemirror_mode": {
    "name": "ipython",
    "version": 3
   },
   "file_extension": ".py",
   "mimetype": "text/x-python",
   "name": "python",
   "nbconvert_exporter": "python",
   "pygments_lexer": "ipython3",
   "version": "3.12.1"
  }
 },
 "nbformat": 4,
 "nbformat_minor": 2
}
