{
 "cells": [
  {
   "cell_type": "code",
   "execution_count": 1,
   "metadata": {},
   "outputs": [],
   "source": [
    "input_file = open(\"input09.txt\", \"r\")\n",
    "input = input_file.read().split(\"\\n\")\n",
    "input.pop()\n",
    "\n",
    "sample = [\"0 3 6 9 12 15\",\n",
    "          \"1 3 6 10 15 21\",\n",
    "          \"10 13 16 21 30 45\"]"
   ]
  },
  {
   "cell_type": "code",
   "execution_count": 33,
   "metadata": {},
   "outputs": [
    {
     "name": "stdout",
     "output_type": "stream",
     "text": [
      "sum:  1921197370\n"
     ]
    }
   ],
   "source": [
    "# PART ONE\n",
    "\n",
    "hist_total = 0\n",
    "\n",
    "def all_zeros(mylist):\n",
    "    is_zero = True\n",
    "    for n in mylist:\n",
    "        if n == 0:\n",
    "            pass\n",
    "        else:\n",
    "            is_zero = False\n",
    "            break\n",
    "    \n",
    "    return is_zero\n",
    "\n",
    "for mainline in input:\n",
    "    mainline_list = [int(x) for x in mainline.split(\" \")]\n",
    "    diffs = [mainline_list]\n",
    "    # print(diffs)\n",
    "\n",
    "    while not all_zeros(diffs[-1]):\n",
    "        new_diffs = []\n",
    "        for i, num in enumerate(diffs[-1]):\n",
    "            if i != len(diffs[-1])-1:\n",
    "                new_diffs.append(diffs[-1][i+1] - diffs[-1][i])\n",
    "\n",
    "        # print(new_diffs)\n",
    "        diffs.append(new_diffs)\n",
    "\n",
    "    # print(diffs)\n",
    "    # print(\"\")\n",
    "\n",
    "    hist_sum = 0\n",
    "    for line in diffs[-1::-1]:\n",
    "        # print(line)\n",
    "        hist_sum += line[-1]\n",
    "    \n",
    "    # print(hist_sum)\n",
    "    # print(\"\")\n",
    "\n",
    "    hist_total += hist_sum\n",
    "\n",
    "print(\"sum: \", hist_total)"
   ]
  },
  {
   "cell_type": "code",
   "execution_count": 39,
   "metadata": {},
   "outputs": [
    {
     "name": "stdout",
     "output_type": "stream",
     "text": [
      "sum:  1124\n"
     ]
    }
   ],
   "source": [
    "# PART TWO\n",
    "\n",
    "prehist_total = 0\n",
    "\n",
    "def all_zeros(mylist):\n",
    "    is_zero = True\n",
    "    for n in mylist:\n",
    "        if n == 0:\n",
    "            pass\n",
    "        else:\n",
    "            is_zero = False\n",
    "            break\n",
    "    \n",
    "    return is_zero\n",
    "\n",
    "for mainline in input:\n",
    "    mainline_list = [int(x) for x in mainline.split(\" \")]\n",
    "    diffs = [mainline_list]\n",
    "    # print(diffs)\n",
    "\n",
    "    while not all_zeros(diffs[-1]):\n",
    "        new_diffs = []\n",
    "        for i, num in enumerate(diffs[-1]):\n",
    "            if i != len(diffs[-1])-1:\n",
    "                new_diffs.append(diffs[-1][i+1] - diffs[-1][i])\n",
    "\n",
    "        # print(new_diffs)\n",
    "        diffs.append(new_diffs)\n",
    "\n",
    "    # print(diffs)\n",
    "    # print(\"\")\n",
    "\n",
    "    prehist_sum = 0\n",
    "    for line in diffs[-1::-1]:\n",
    "        # print(line)\n",
    "        prehist_sum = line[0] - prehist_sum\n",
    "    \n",
    "    # print(prehist_sum)\n",
    "    # print(\"\")\n",
    "\n",
    "    prehist_total += prehist_sum\n",
    "\n",
    "print(\"sum: \", prehist_total)"
   ]
  }
 ],
 "metadata": {
  "kernelspec": {
   "display_name": "Python 3",
   "language": "python",
   "name": "python3"
  },
  "language_info": {
   "codemirror_mode": {
    "name": "ipython",
    "version": 3
   },
   "file_extension": ".py",
   "mimetype": "text/x-python",
   "name": "python",
   "nbconvert_exporter": "python",
   "pygments_lexer": "ipython3",
   "version": "3.12.1"
  }
 },
 "nbformat": 4,
 "nbformat_minor": 2
}
