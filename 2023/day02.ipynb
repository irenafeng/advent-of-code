{
 "cells": [
  {
   "cell_type": "code",
   "execution_count": 17,
   "metadata": {},
   "outputs": [],
   "source": [
    "import re"
   ]
  },
  {
   "cell_type": "code",
   "execution_count": 31,
   "metadata": {},
   "outputs": [],
   "source": [
    "input_file = open(\"input02.txt\", \"r\")\n",
    "input = input_file.read().split(\"\\n\")\n",
    "input.pop()\n",
    "\n",
    "sample = [\"Game 1: 3 blue, 4 red; 1 red, 2 green, 6 blue; 2 green\", \"Game 2: 1 blue, 2 green; 3 green, 4 blue, 1 red; 1 green, 1 blue\", \"Game 3: 8 green, 6 blue, 20 red; 5 blue, 4 red, 13 green; 5 green, 1 red\", \"Game 4: 1 green, 3 red, 6 blue; 3 green, 6 red; 3 green, 15 blue, 14 red\", \"Game 5: 6 red, 1 blue, 3 green; 2 blue, 1 red, 2 green\"]\n",
    "\n",
    "red = 12\n",
    "green = 13\n",
    "blue = 14"
   ]
  },
  {
   "cell_type": "code",
   "execution_count": 32,
   "metadata": {},
   "outputs": [
    {
     "name": "stdout",
     "output_type": "stream",
     "text": [
      "total:  2771\n"
     ]
    }
   ],
   "source": [
    "# PART ONE\n",
    "\n",
    "total = 0\n",
    "\n",
    "for line in input:\n",
    "    split = line.split(\": \")\n",
    "    id_full = split[0]\n",
    "    record = split[1]\n",
    "\n",
    "    id = id_full.split(\" \")[1]\n",
    "    total += int(id)\n",
    "    \n",
    "    record_split = re.split('[,;]', record)\n",
    "    #print(record_split)\n",
    "\n",
    "    for n in record_split:\n",
    "        per_split = n.strip().split(\" \")\n",
    "        num = per_split[0]\n",
    "        color = per_split[1]\n",
    "\n",
    "        if color == \"red\":\n",
    "            if int(num) > red:\n",
    "                total -= int(id)\n",
    "                break\n",
    "        elif color == \"green\":\n",
    "            if int(num) > green:\n",
    "                total -= int(id)\n",
    "                break\n",
    "        elif color == \"blue\":\n",
    "            if int(num) > blue:\n",
    "                total -= int(id)\n",
    "                break\n",
    "    \n",
    "print(\"total: \", total)"
   ]
  },
  {
   "cell_type": "code",
   "execution_count": 38,
   "metadata": {},
   "outputs": [
    {
     "name": "stdout",
     "output_type": "stream",
     "text": [
      "total:  70924\n"
     ]
    }
   ],
   "source": [
    "# PART TWO\n",
    "\n",
    "total = 0\n",
    "\n",
    "for line in input:\n",
    "    split = line.split(\": \")\n",
    "    id_full = split[0]\n",
    "    record = split[1]\n",
    "\n",
    "    id = id_full.split(\" \")[1]\n",
    "    record_split = re.split('[,;]', record)\n",
    "\n",
    "    red_num = -1\n",
    "    green_num = -1\n",
    "    blue_num = -1\n",
    "\n",
    "    for n in record_split:\n",
    "        per_split = n.strip().split(\" \")\n",
    "        num = int(per_split[0])\n",
    "        color = per_split[1]\n",
    "\n",
    "        if color == \"red\":\n",
    "            if red_num == -1 or num > red_num:\n",
    "                red_num = num\n",
    "        elif color == \"green\":\n",
    "            if green_num == -1 or num > green_num:\n",
    "                green_num = num\n",
    "        elif color == \"blue\":\n",
    "            if blue_num == -1 or num > blue_num:\n",
    "                blue_num = num\n",
    "    \n",
    "    power = red_num * green_num * blue_num\n",
    "    #print(power)\n",
    "\n",
    "    total += power\n",
    "\n",
    "print(\"total: \", total)"
   ]
  }
 ],
 "metadata": {
  "kernelspec": {
   "display_name": "Python 3",
   "language": "python",
   "name": "python3"
  },
  "language_info": {
   "codemirror_mode": {
    "name": "ipython",
    "version": 3
   },
   "file_extension": ".py",
   "mimetype": "text/x-python",
   "name": "python",
   "nbconvert_exporter": "python",
   "pygments_lexer": "ipython3",
   "version": "3.12.1"
  }
 },
 "nbformat": 4,
 "nbformat_minor": 2
}
