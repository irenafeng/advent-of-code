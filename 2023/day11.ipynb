{
 "cells": [
  {
   "cell_type": "code",
   "execution_count": 73,
   "metadata": {},
   "outputs": [],
   "source": [
    "input_file = open(\"input11.txt\", \"r\")\n",
    "input = input_file.read().split(\"\\n\")\n",
    "input.pop()\n",
    "\n",
    "sample = [\"...#......\",\n",
    "          \".......#..\",\n",
    "          \"#.........\",\n",
    "          \"..........\",\n",
    "          \"......#...\",\n",
    "          \".#........\",\n",
    "          \".........#\",\n",
    "          \"..........\",\n",
    "          \".......#..\",\n",
    "          \"#...#.....\"]"
   ]
  },
  {
   "cell_type": "code",
   "execution_count": 74,
   "metadata": {},
   "outputs": [
    {
     "name": "stdout",
     "output_type": "stream",
     "text": [
      "sum:  9795148\n"
     ]
    }
   ],
   "source": [
    "# PART ONE\n",
    "\n",
    "# universe = [[x for x in line] for line in sample]\n",
    "universe = [[x for x in line] for line in input]\n",
    "\n",
    "col_occupied = [False for _ in range(len(universe[0]))]\n",
    "row_occupied = [False for _ in range(len(universe))]\n",
    "\n",
    "num_galaxies = 0\n",
    "galaxy_coord = []\n",
    "\n",
    "for r, row in enumerate(universe):\n",
    "    for c, column in enumerate(row):\n",
    "        if column == \"#\":\n",
    "            row_occupied[r] = True\n",
    "            col_occupied[c] = True\n",
    "            universe[r][c] = num_galaxies\n",
    "            galaxy_coord.append((r, c))\n",
    "            num_galaxies += 1\n",
    "\n",
    "# print(galaxy_coord)\n",
    "# print(\"\")\n",
    "\n",
    "empty_col = [i for i, col in enumerate(col_occupied) if col == False]\n",
    "empty_row = [i for i, row in enumerate(row_occupied) if row == False]\n",
    "\n",
    "pairs = []\n",
    "for i in range(num_galaxies):\n",
    "    for j in range(i+1,num_galaxies):\n",
    "        # print(i,j)\n",
    "        pairs.append((i,j))\n",
    "# print(len(pairs))\n",
    "        \n",
    "def check_expansion(coord1, coord2):\n",
    "    coord1_r, coord1_c = coord1\n",
    "    coord2_r, coord2_c = coord2\n",
    "\n",
    "    row_expand = 0\n",
    "    col_expand = 0\n",
    "    \n",
    "    #check rows\n",
    "    for row_i in empty_row:\n",
    "        if coord1_r < row_i < coord2_r:\n",
    "            row_expand += 1\n",
    "        elif coord2_r < row_i < coord1_r:\n",
    "            row_expand += 1\n",
    "\n",
    "    #check rows\n",
    "    for col_i in empty_col:\n",
    "        if coord1_c < col_i < coord2_c:\n",
    "            col_expand += 1\n",
    "        elif coord2_c < col_i < coord1_c:\n",
    "            col_expand += 1\n",
    "\n",
    "    return row_expand, col_expand\n",
    "\n",
    "total_dist = 0\n",
    "for pair in pairs:\n",
    "    gal1, gal2 = pair\n",
    "    gal1_coord = galaxy_coord[gal1]\n",
    "    gal2_coord = galaxy_coord[gal2]\n",
    "\n",
    "    row_ex, col_ex = check_expansion(gal1_coord, gal2_coord)\n",
    "    pair_dist = abs(gal1_coord[0] - gal2_coord[0]) + abs(gal1_coord[1] - gal2_coord[1]) + row_ex + col_ex\n",
    "    # print(pair, \";\", row_ex, \",\", col_ex, \";\", pair_dist)\n",
    "\n",
    "    total_dist += pair_dist\n",
    "\n",
    "print(\"sum: \", total_dist)"
   ]
  },
  {
   "cell_type": "code",
   "execution_count": 76,
   "metadata": {},
   "outputs": [
    {
     "name": "stdout",
     "output_type": "stream",
     "text": [
      "sum:  650672493820\n"
     ]
    }
   ],
   "source": [
    "# PART TWO\n",
    "\n",
    "total_dist2 = 0\n",
    "for pair in pairs:\n",
    "    gal1, gal2 = pair\n",
    "    gal1_coord = galaxy_coord[gal1]\n",
    "    gal2_coord = galaxy_coord[gal2]\n",
    "\n",
    "    row_ex, col_ex = check_expansion(gal1_coord, gal2_coord)\n",
    "    pair_dist = abs(gal1_coord[0] - gal2_coord[0]) + abs(gal1_coord[1] - gal2_coord[1]) + (row_ex + col_ex) * 999999\n",
    "\n",
    "    total_dist2 += pair_dist\n",
    "\n",
    "print(\"sum: \", total_dist2)\n"
   ]
  }
 ],
 "metadata": {
  "kernelspec": {
   "display_name": "Python 3",
   "language": "python",
   "name": "python3"
  },
  "language_info": {
   "codemirror_mode": {
    "name": "ipython",
    "version": 3
   },
   "file_extension": ".py",
   "mimetype": "text/x-python",
   "name": "python",
   "nbconvert_exporter": "python",
   "pygments_lexer": "ipython3",
   "version": "3.12.1"
  }
 },
 "nbformat": 4,
 "nbformat_minor": 2
}
