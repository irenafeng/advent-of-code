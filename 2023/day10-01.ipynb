{
 "cells": [
  {
   "cell_type": "code",
   "execution_count": 54,
   "metadata": {},
   "outputs": [],
   "source": [
    "input_file = open(\"input10.txt\", \"r\")\n",
    "input = input_file.read().split(\"\\n\")\n",
    "input.pop()\n",
    "\n",
    "sample = [\".....\",\n",
    "          \".S-7.\",\n",
    "          \".|.|.\",\n",
    "          \".L-J.\",\n",
    "          \".....\"]\n",
    "\n",
    "sample2 = [\"..F7.\",\n",
    "           \".FJ|.\",\n",
    "           \"SJ.L7\",\n",
    "           \"|F--J\",\n",
    "           \"LJ...\"]\n",
    "\n",
    "sample3 = [\"...........\",\n",
    "           \".S-------7.\",\n",
    "           \".|F-----7|.\",\n",
    "           \".||.....||.\",\n",
    "           \".||.....||.\",\n",
    "           \".|L-7.F-J|.\",\n",
    "           \".|..|.|..|.\",\n",
    "           \".L--J.L--J.\",\n",
    "           \"...........\"]\n",
    "\n",
    "sample4 = [\".F----7F7F7F7F-7....\",\n",
    "           \".|F--7||||||||FJ....\",\n",
    "           \".||.FJ||||||||L7....\",\n",
    "           \"FJL7L7LJLJ||LJ.L-7..\",\n",
    "           \"L--J.L7...LJS7F-7L7.\",\n",
    "           \"....F-J..F7FJ|L7L7L7\",\n",
    "           \"....L7.F7||L7|.L7L7|\",\n",
    "           \".....|FJLJ|FJ|F7|.LJ\",\n",
    "           \"....FJL-7.||.||||...\",\n",
    "           \"....L---J.LJ.LJLJ...\"]\n",
    "\n",
    "sample5 = [\"FF7FSF7F7F7F7F7F---7\",\n",
    "           \"L|LJ||||||||||||F--J\",\n",
    "           \"FL-7LJLJ||||||LJL-77\",\n",
    "           \"F--JF--7||LJLJ7F7FJ-\",\n",
    "           \"L---JF-JLJ.||-FJLJJ7\",\n",
    "           \"|F|F-JF---7F7-L7L|7|\",\n",
    "           \"|FFJF7L7F-JF7|JL---7\",\n",
    "           \"7-L-JL7||F7|L7F-7F7|\",\n",
    "           \"L.L7LFJ|||||FJL7||LJ\",\n",
    "           \"L7JLJL-JLJLJL--JLJ.L\"]"
   ]
  },
  {
   "cell_type": "code",
   "execution_count": 53,
   "metadata": {},
   "outputs": [
    {
     "name": "stdout",
     "output_type": "stream",
     "text": [
      "steps:  7102\n"
     ]
    }
   ],
   "source": [
    "# PART ONE\n",
    "\n",
    "# arraylist = [[x for x in line] for line in sample]\n",
    "# arraylist = [[x for x in line] for line in sample2]\n",
    "arraylist = [[x for x in line] for line in input]\n",
    "\n",
    "steps = 0\n",
    "\n",
    "for r, row in enumerate(arraylist):\n",
    "    for c, column in enumerate(row):\n",
    "        if column == \"S\":\n",
    "            arraylist[r][c] = steps\n",
    "\n",
    "def searcharound(myarray, num):\n",
    "    changed_list = []\n",
    "    for r, row in enumerate(myarray):\n",
    "        for c, column in enumerate(row):\n",
    "            if column == num:\n",
    "                myarray, changed_up = check_up(myarray, num, r, c)\n",
    "                myarray, changed_down = check_down(myarray, num, r, c)\n",
    "                myarray, changed_left = check_left(myarray, num, r, c)\n",
    "                myarray, changed_right = check_right(myarray, num, r, c)\n",
    "\n",
    "                changed_list.append(changed_up)\n",
    "                changed_list.append(changed_down)\n",
    "                changed_list.append(changed_left)\n",
    "                changed_list.append(changed_right)\n",
    "    \n",
    "    return myarray, any(changed_list)\n",
    "\n",
    "def check_up(myarray, num, r, c):\n",
    "    changemade = False\n",
    "    if r == 0:\n",
    "        pass\n",
    "    elif myarray[r-1][c] == \"|\" or myarray[r-1][c] == \"7\" or myarray[r-1][c] == \"F\": #up\n",
    "        myarray[r-1][c] = num+1\n",
    "        changemade = True\n",
    "\n",
    "    return myarray, changemade\n",
    "\n",
    "def check_down(myarray, num, r, c):\n",
    "    changemade = False\n",
    "    if r == len(myarray)-1:\n",
    "        pass\n",
    "    elif myarray[r+1][c] == \"|\" or myarray[r+1][c] == \"L\" or myarray[r+1][c] == \"J\": #down\n",
    "        myarray[r+1][c] = num+1\n",
    "        changemade = True\n",
    "    \n",
    "    return myarray, changemade\n",
    "\n",
    "def check_left(myarray, num, r, c):\n",
    "    changemade = False\n",
    "    if c == 0:\n",
    "        pass\n",
    "    elif myarray[r][c-1] == \"-\" or myarray[r][c-1] == \"L\" or myarray[r][c-1] == \"F\": #left\n",
    "        myarray[r][c-1] = num+1\n",
    "        changemade = True\n",
    "    \n",
    "    return myarray, changemade\n",
    "\n",
    "def check_right(myarray, num, r, c):\n",
    "    changemade = False\n",
    "    if c == len(myarray[0])-1:\n",
    "        pass\n",
    "    elif myarray[r][c+1] == \"-\" or myarray[r][c+1] == \"J\" or myarray[r][c+1] == \"7\": #right\n",
    "        myarray[r][c+1] = num+1\n",
    "        changemade = True\n",
    "    \n",
    "    return myarray, changemade\n",
    "\n",
    "changed = True\n",
    "while changed:\n",
    "    arraylist, changed = searcharound(arraylist, steps)\n",
    "    steps += 1\n",
    "    \n",
    "    # print(changed)\n",
    "\n",
    "print(\"steps: \", steps-1)"
   ]
  },
  {
   "cell_type": "code",
   "execution_count": 47,
   "metadata": {},
   "outputs": [
    {
     "data": {
      "text/plain": [
       "9"
      ]
     },
     "execution_count": 47,
     "metadata": {},
     "output_type": "execute_result"
    }
   ],
   "source": [
    "# PART TWO\n",
    "\n"
   ]
  }
 ],
 "metadata": {
  "kernelspec": {
   "display_name": "Python 3",
   "language": "python",
   "name": "python3"
  },
  "language_info": {
   "codemirror_mode": {
    "name": "ipython",
    "version": 3
   },
   "file_extension": ".py",
   "mimetype": "text/x-python",
   "name": "python",
   "nbconvert_exporter": "python",
   "pygments_lexer": "ipython3",
   "version": "3.12.1"
  }
 },
 "nbformat": 4,
 "nbformat_minor": 2
}
