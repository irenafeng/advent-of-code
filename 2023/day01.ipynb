{
 "cells": [
  {
   "cell_type": "code",
   "execution_count": 39,
   "metadata": {},
   "outputs": [],
   "source": [
    "input_file = open(\"input01.txt\", \"r\")\n",
    "input_file_list = input_file.read()\n",
    "input = input_file_list.split(\"\\n\")\n",
    "input.pop()\n",
    "sample = [\"1abc2\", \"pqr3stu8vwx\", \"a1b2c3d4e5f\", \"treb7uchet\"]\n",
    "sample2 = [\"two1nine\", \"eightwothree\", \"abcone2threexyz\", \"xtwone3four\", \"4nineeightseven2\", \"zoneight234\", \"7pqrstsixteen\"]\n",
    "\n",
    "numbers = [\"1\", \"2\", \"3\", \"4\", \"5\", \"6\", \"7\", \"8\", \"9\", \"0\"]\n",
    "numstr = [\"one\", \"two\", \"three\", \"four\", \"five\", \"six\", \"seven\", \"eight\", \"nine\"]"
   ]
  },
  {
   "cell_type": "code",
   "execution_count": 33,
   "metadata": {},
   "outputs": [
    {
     "name": "stdout",
     "output_type": "stream",
     "text": [
      "total: 55123\n"
     ]
    }
   ],
   "source": [
    "# PART ONE\n",
    "\n",
    "total = 0\n",
    "for line in input:\n",
    "    n = \"\"\n",
    "    for char in line:\n",
    "        if char in numbers:\n",
    "            n += char\n",
    "            break\n",
    "    for char in line[-1::-1]:\n",
    "        if char in numbers:\n",
    "            n += char\n",
    "            break\n",
    "    #print(n)\n",
    "    total += int(n)\n",
    "\n",
    "print(\"total:\", total)"
   ]
  },
  {
   "cell_type": "code",
   "execution_count": 70,
   "metadata": {},
   "outputs": [
    {
     "name": "stdout",
     "output_type": "stream",
     "text": [
      "total: 55260\n"
     ]
    }
   ],
   "source": [
    "# PART TWO\n",
    "\n",
    "total = 0\n",
    "for line in input:\n",
    "    line_sum = \"\"\n",
    "    n_list = []\n",
    "    for n in range(len(line)):\n",
    "        str3 = line[n:n+3]\n",
    "        str4 = line[n:n+4]\n",
    "        str5 = line[n:n+5]\n",
    "\n",
    "        if line[n] in numbers:\n",
    "            n_list.append(line[n])\n",
    "        elif str3 in numstr:\n",
    "            n_list.append(str3)\n",
    "        elif str4 in numstr:\n",
    "            n_list.append(str4)\n",
    "        elif str5 in numstr:\n",
    "            n_list.append(str5)\n",
    "\n",
    "    #print(n_list)\n",
    "    n_first = n_list[0]\n",
    "    n_last = n_list[-1]\n",
    "\n",
    "    if n_first in numbers:\n",
    "        line_sum += n_first\n",
    "    elif n_first in numstr:\n",
    "        n_first_index = str(numstr.index(n_first) + 1)\n",
    "        line_sum += n_first_index\n",
    "\n",
    "    if n_last in numbers:\n",
    "        line_sum += n_last\n",
    "    elif n_last in numstr:\n",
    "        n_last_index = str(numstr.index(n_last) + 1)\n",
    "        line_sum += n_last_index\n",
    "    \n",
    "    #print(line_sum)\n",
    "    total += int(line_sum)\n",
    "\n",
    "print(\"total:\", total)"
   ]
  }
 ],
 "metadata": {
  "kernelspec": {
   "display_name": "Python 3",
   "language": "python",
   "name": "python3"
  },
  "language_info": {
   "codemirror_mode": {
    "name": "ipython",
    "version": 3
   },
   "file_extension": ".py",
   "mimetype": "text/x-python",
   "name": "python",
   "nbconvert_exporter": "python",
   "pygments_lexer": "ipython3",
   "version": "3.12.1"
  }
 },
 "nbformat": 4,
 "nbformat_minor": 2
}
